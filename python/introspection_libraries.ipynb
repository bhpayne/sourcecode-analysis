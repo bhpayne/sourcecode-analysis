{
 "cells": [
  {
   "cell_type": "code",
   "execution_count": 1,
   "id": "9422ce8c-99be-4ad7-9b2d-331028793715",
   "metadata": {},
   "outputs": [
    {
     "name": "stdout",
     "output_type": "stream",
     "text": [
      "Collecting pyflakes\n",
      "  Downloading pyflakes-2.4.0-py2.py3-none-any.whl (69 kB)\n",
      "\u001b[K     |████████████████████████████████| 69 kB 65 kB/s  eta 0:00:01\n",
      "\u001b[?25hInstalling collected packages: pyflakes\n",
      "Successfully installed pyflakes-2.4.0\n"
     ]
    }
   ],
   "source": [
    "!pip install pyflakes"
   ]
  },
  {
   "cell_type": "code",
   "execution_count": 4,
   "id": "d2b96f4c-00a3-451c-a213-ccd80061d882",
   "metadata": {},
   "outputs": [
    {
     "name": "stdout",
     "output_type": "stream",
     "text": [
      "static_offline_python_analysis.py:39:1 'matplotlib.pyplot as plt' imported but unused\n"
     ]
    }
   ],
   "source": [
    "!pyflakes static_offline_python_analysis.py"
   ]
  },
  {
   "cell_type": "code",
   "execution_count": 2,
   "id": "72262773-28a9-455c-b9be-fe47379ad227",
   "metadata": {},
   "outputs": [
    {
     "name": "stdout",
     "output_type": "stream",
     "text": [
      "Collecting pylint\n",
      "  Downloading pylint-2.12.2-py3-none-any.whl (414 kB)\n",
      "\u001b[K     |████████████████████████████████| 414 kB 739 kB/s eta 0:00:01\n",
      "\u001b[?25hCollecting toml>=0.9.2\n",
      "  Downloading toml-0.10.2-py2.py3-none-any.whl (16 kB)\n",
      "Collecting astroid<2.10,>=2.9.0\n",
      "  Downloading astroid-2.9.0-py3-none-any.whl (250 kB)\n",
      "\u001b[K     |████████████████████████████████| 250 kB 4.3 MB/s eta 0:00:01\n",
      "\u001b[?25hCollecting isort<6,>=4.2.5\n",
      "  Downloading isort-5.10.1-py3-none-any.whl (103 kB)\n",
      "\u001b[K     |████████████████████████████████| 103 kB 12.5 MB/s eta 0:00:01\n",
      "\u001b[?25hRequirement already satisfied: typing-extensions>=3.10.0 in /opt/conda/lib/python3.9/site-packages (from pylint) (3.10.0.0)\n",
      "Collecting platformdirs>=2.2.0\n",
      "  Downloading platformdirs-2.4.1-py3-none-any.whl (14 kB)\n",
      "Collecting mccabe<0.7,>=0.6\n",
      "  Downloading mccabe-0.6.1-py2.py3-none-any.whl (8.6 kB)\n",
      "Collecting lazy-object-proxy>=1.4.0\n",
      "  Downloading lazy_object_proxy-1.7.1-cp39-cp39-manylinux_2_5_x86_64.manylinux1_x86_64.manylinux_2_17_x86_64.manylinux2014_x86_64.whl (61 kB)\n",
      "\u001b[K     |████████████████████████████████| 61 kB 762 kB/s eta 0:00:01\n",
      "\u001b[?25hCollecting wrapt<1.14,>=1.11\n",
      "  Downloading wrapt-1.13.3-cp39-cp39-manylinux_2_5_x86_64.manylinux1_x86_64.manylinux_2_12_x86_64.manylinux2010_x86_64.whl (81 kB)\n",
      "\u001b[K     |████████████████████████████████| 81 kB 664 kB/s eta 0:00:01\n",
      "\u001b[?25hRequirement already satisfied: setuptools>=20.0 in /opt/conda/lib/python3.9/site-packages (from astroid<2.10,>=2.9.0->pylint) (58.0.4)\n",
      "Installing collected packages: wrapt, lazy-object-proxy, toml, platformdirs, mccabe, isort, astroid, pylint\n",
      "Successfully installed astroid-2.9.0 isort-5.10.1 lazy-object-proxy-1.7.1 mccabe-0.6.1 platformdirs-2.4.1 pylint-2.12.2 toml-0.10.2 wrapt-1.13.3\n"
     ]
    }
   ],
   "source": [
    "!pip install pylint"
   ]
  },
  {
   "cell_type": "code",
   "execution_count": 6,
   "id": "d929a743-eab1-47c7-ba43-3fdc155da9d6",
   "metadata": {},
   "outputs": [
    {
     "name": "stdout",
     "output_type": "stream",
     "text": [
      "************* Module static_offline_python_analysis\n",
      "static_offline_python_analysis.py:5:0: C0301: Line too long (102/100) (line-too-long)\n",
      "static_offline_python_analysis.py:12:0: C0301: Line too long (119/100) (line-too-long)\n",
      "static_offline_python_analysis.py:31:0: C0301: Line too long (155/100) (line-too-long)\n",
      "static_offline_python_analysis.py:84:0: C0301: Line too long (121/100) (line-too-long)\n",
      "static_offline_python_analysis.py:133:0: C0301: Line too long (122/100) (line-too-long)\n",
      "static_offline_python_analysis.py:211:0: C0301: Line too long (156/100) (line-too-long)\n",
      "static_offline_python_analysis.py:33:0: C0413: Import \"import subprocess\" should be placed at the top of the module (wrong-import-position)\n",
      "static_offline_python_analysis.py:34:0: C0413: Import \"import ast\" should be placed at the top of the module (wrong-import-position)\n",
      "static_offline_python_analysis.py:35:0: C0413: Import \"import glob\" should be placed at the top of the module (wrong-import-position)\n",
      "static_offline_python_analysis.py:36:0: C0413: Import \"import os\" should be placed at the top of the module (wrong-import-position)\n",
      "static_offline_python_analysis.py:37:0: C0413: Import \"import argparse\" should be placed at the top of the module (wrong-import-position)\n",
      "static_offline_python_analysis.py:38:0: C0413: Import \"import json\" should be placed at the top of the module (wrong-import-position)\n",
      "static_offline_python_analysis.py:39:0: C0413: Import \"from matplotlib import pyplot as plt\" should be placed at the top of the module (wrong-import-position)\n",
      "static_offline_python_analysis.py:46:4: W0621: Redefining name 'parser' from outer scope (line 182) (redefined-outer-name)\n",
      "static_offline_python_analysis.py:70:27: W0621: Redefining name 'filename' from outer scope (line 202) (redefined-outer-name)\n",
      "static_offline_python_analysis.py:74:9: W1514: Using open without explicitly specifying an encoding (unspecified-encoding)\n",
      "static_offline_python_analysis.py:84:12: R1723: Unnecessary \"else\" after \"break\" (no-else-break)\n",
      "static_offline_python_analysis.py:108:8: C0103: Variable name \"cl\" doesn't conform to snake_case naming style (invalid-name)\n",
      "static_offline_python_analysis.py:162:0: C0116: Missing function or method docstring (missing-function-docstring)\n",
      "static_offline_python_analysis.py:162:16: W0621: Redefining name 'filename' from outer scope (line 202) (redefined-outer-name)\n",
      "static_offline_python_analysis.py:164:4: W0621: Redefining name 'assessment_dict' from outer scope (line 188) (redefined-outer-name)\n",
      "static_offline_python_analysis.py:170:13: W1510: Using subprocess.run without explicitly set `check` is not recommended. (subprocess-run-check)\n",
      "static_offline_python_analysis.py:210:9: W1514: Using open without explicitly specifying an encoding (unspecified-encoding)\n",
      "static_offline_python_analysis.py:39:0: W0611: Unused pyplot imported from matplotlib as plt (unused-import)\n",
      "\n",
      "------------------------------------------------------------------\n",
      "Your code has been rated at 7.86/10 (previous run: 7.77/10, +0.09)\n",
      "\n",
      "\u001b[0m"
     ]
    }
   ],
   "source": [
    "!pylint static_offline_python_analysis.py"
   ]
  },
  {
   "cell_type": "code",
   "execution_count": 3,
   "id": "ff14f4b9-a6c6-4054-9e95-8159d77e3771",
   "metadata": {},
   "outputs": [
    {
     "name": "stdout",
     "output_type": "stream",
     "text": [
      "Collecting prospector\n",
      "  Downloading prospector-1.5.3.1-py3-none-any.whl (83 kB)\n",
      "\u001b[K     |████████████████████████████████| 83 kB 90 kB/s  eta 0:00:01\n",
      "\u001b[?25hCollecting pydocstyle>=2.0.0\n",
      "  Downloading pydocstyle-6.1.1-py3-none-any.whl (37 kB)\n",
      "Requirement already satisfied: pylint>=2.8.3 in /opt/conda/lib/python3.9/site-packages (from prospector) (2.12.2)\n",
      "Collecting pylint-celery==0.3\n",
      "  Downloading pylint-celery-0.3.tar.gz (1.9 kB)\n",
      "Requirement already satisfied: PyYAML in /opt/conda/lib/python3.9/site-packages (from prospector) (5.4.1)\n",
      "Collecting pep8-naming<=0.10.0,>=0.3.3\n",
      "  Downloading pep8_naming-0.10.0-py2.py3-none-any.whl (8.1 kB)\n",
      "Collecting requirements-detector<0.8,>=0.7\n",
      "  Downloading requirements-detector-0.7.tar.gz (8.6 kB)\n",
      "Collecting dodgy<0.3.0,>=0.2.1\n",
      "  Downloading dodgy-0.2.1-py3-none-any.whl (5.4 kB)\n",
      "Collecting setoptconf-tmp<0.4.0,>=0.3.1\n",
      "  Downloading setoptconf_tmp-0.3.1-py3-none-any.whl (32 kB)\n",
      "Collecting pylint-plugin-utils<0.7,>=0.6\n",
      "  Downloading pylint_plugin_utils-0.6-py3-none-any.whl (10 kB)\n",
      "Requirement already satisfied: toml<0.11.0,>=0.10.2 in /opt/conda/lib/python3.9/site-packages (from prospector) (0.10.2)\n",
      "Collecting pylint-flask==0.6\n",
      "  Downloading pylint-flask-0.6.tar.gz (10.0 kB)\n",
      "Collecting pycodestyle<2.9.0,>=2.6.0\n",
      "  Downloading pycodestyle-2.8.0-py2.py3-none-any.whl (42 kB)\n",
      "\u001b[K     |████████████████████████████████| 42 kB 52 kB/s  eta 0:00:01\n",
      "\u001b[?25hRequirement already satisfied: mccabe<0.7.0,>=0.6.0 in /opt/conda/lib/python3.9/site-packages (from prospector) (0.6.1)\n",
      "Collecting pylint-django<3.0.0,>=2.4.4\n",
      "  Downloading pylint_django-2.4.4-py3-none-any.whl (78 kB)\n",
      "\u001b[K     |█████████████████████████████▎  | 71 kB 8.1 MB/s eta 0:00:01     |████████████████████████████████| 78 kB 215 kB/s \n",
      "\u001b[?25hCollecting pyflakes<2.4.0,>=2.2.0\n",
      "  Downloading pyflakes-2.3.1-py2.py3-none-any.whl (68 kB)\n",
      "\u001b[K     |████████████████████████████████| 68 kB 391 kB/s eta 0:00:01\n",
      "\u001b[?25hRequirement already satisfied: astroid>=1.0 in /opt/conda/lib/python3.9/site-packages (from pylint-celery==0.3->prospector) (2.9.0)\n",
      "Requirement already satisfied: wrapt<1.14,>=1.11 in /opt/conda/lib/python3.9/site-packages (from astroid>=1.0->pylint-celery==0.3->prospector) (1.13.3)\n",
      "Requirement already satisfied: setuptools>=20.0 in /opt/conda/lib/python3.9/site-packages (from astroid>=1.0->pylint-celery==0.3->prospector) (58.0.4)\n",
      "Requirement already satisfied: typing-extensions>=3.10 in /opt/conda/lib/python3.9/site-packages (from astroid>=1.0->pylint-celery==0.3->prospector) (3.10.0.0)\n",
      "Requirement already satisfied: lazy-object-proxy>=1.4.0 in /opt/conda/lib/python3.9/site-packages (from astroid>=1.0->pylint-celery==0.3->prospector) (1.7.1)\n",
      "Collecting flake8-polyfill<2,>=1.0.2\n",
      "  Downloading flake8_polyfill-1.0.2-py2.py3-none-any.whl (7.3 kB)\n",
      "Collecting flake8\n",
      "  Downloading flake8-4.0.1-py2.py3-none-any.whl (64 kB)\n",
      "\u001b[K     |████████████████████████████████| 64 kB 90 kB/s  eta 0:00:01\n",
      "\u001b[?25hCollecting snowballstemmer\n",
      "  Downloading snowballstemmer-2.2.0-py2.py3-none-any.whl (93 kB)\n",
      "\u001b[K     |████████████████████████████████| 93 kB 20 kB/s  eta 0:00:01\n",
      "\u001b[?25hRequirement already satisfied: platformdirs>=2.2.0 in /opt/conda/lib/python3.9/site-packages (from pylint>=2.8.3->prospector) (2.4.1)\n",
      "Requirement already satisfied: isort<6,>=4.2.5 in /opt/conda/lib/python3.9/site-packages (from pylint>=2.8.3->prospector) (5.10.1)\n",
      "Collecting flake8\n",
      "  Downloading flake8-4.0.0-py2.py3-none-any.whl (64 kB)\n",
      "\u001b[K     |████████████████████████████████| 64 kB 105 kB/s eta 0:00:01\n",
      "\u001b[?25h  Downloading flake8-3.9.2-py2.py3-none-any.whl (73 kB)\n",
      "\u001b[K     |████████████████████████████████| 73 kB 28 kB/s  eta 0:00:011\n",
      "\u001b[?25hCollecting pycodestyle<2.9.0,>=2.6.0\n",
      "  Downloading pycodestyle-2.7.0-py2.py3-none-any.whl (41 kB)\n",
      "\u001b[K     |████████████████████████████████| 41 kB 8.1 kB/s eta 0:00:01\n",
      "\u001b[?25hBuilding wheels for collected packages: pylint-celery, pylint-flask, requirements-detector\n",
      "  Building wheel for pylint-celery (setup.py) ... \u001b[?25ldone\n",
      "\u001b[?25h  Created wheel for pylint-celery: filename=pylint_celery-0.3-py3-none-any.whl size=1735 sha256=46f05d4a84bc1bf9ee87d1071263425cb7fa3fb1ab895f7c520524423b520c46\n",
      "  Stored in directory: /home/jovyan/.cache/pip/wheels/df/5e/2d/68a1dfe8b9b0bfdc4225404c8103f89d204ec897307b2a2d11\n",
      "  Building wheel for pylint-flask (setup.py) ... \u001b[?25ldone\n",
      "\u001b[?25h  Created wheel for pylint-flask: filename=pylint_flask-0.6-py3-none-any.whl size=9794 sha256=9acdd8f8b5ec867e5d9d6afd73ea3f1fa7d78dd65c5659e952978a89358994cf\n",
      "  Stored in directory: /home/jovyan/.cache/pip/wheels/a4/85/e6/9ea2f20e160339bf7b5ea074b29d47a453aa2eafd36c473b62\n",
      "  Building wheel for requirements-detector (setup.py) ... \u001b[?25ldone\n",
      "\u001b[?25h  Created wheel for requirements-detector: filename=requirements_detector-0.7-py3-none-any.whl size=8938 sha256=06c1c34bd674ceb192a0b93a89aa4bf9aabb73674f2399124325366284c27b70\n",
      "  Stored in directory: /home/jovyan/.cache/pip/wheels/87/f7/a5/fe5d76a3cc4b5b0b0ce5c38e5b16a4ef5f73b14c2d908eab37\n",
      "Successfully built pylint-celery pylint-flask requirements-detector\n",
      "Installing collected packages: pyflakes, pycodestyle, flake8, snowballstemmer, pylint-plugin-utils, flake8-polyfill, setoptconf-tmp, requirements-detector, pylint-flask, pylint-django, pylint-celery, pydocstyle, pep8-naming, dodgy, prospector\n",
      "  Attempting uninstall: pyflakes\n",
      "    Found existing installation: pyflakes 2.4.0\n",
      "    Uninstalling pyflakes-2.4.0:\n",
      "      Successfully uninstalled pyflakes-2.4.0\n",
      "Successfully installed dodgy-0.2.1 flake8-3.9.2 flake8-polyfill-1.0.2 pep8-naming-0.10.0 prospector-1.5.3.1 pycodestyle-2.7.0 pydocstyle-6.1.1 pyflakes-2.3.1 pylint-celery-0.3 pylint-django-2.4.4 pylint-flask-0.6 pylint-plugin-utils-0.6 requirements-detector-0.7 setoptconf-tmp-0.3.1 snowballstemmer-2.2.0\n"
     ]
    }
   ],
   "source": [
    "!pip install prospector"
   ]
  },
  {
   "cell_type": "code",
   "execution_count": 7,
   "id": "7d430a23-109c-4f67-889d-b0d893539aa6",
   "metadata": {},
   "outputs": [
    {
     "name": "stdout",
     "output_type": "stream",
     "text": [
      "Messages\n",
      "========\n",
      "\n",
      "static_offline_python_analysis.py\n",
      "  Line: 33\n",
      "    pylint: wrong-import-position / Import \"import subprocess\" should be placed at the top of the module\n",
      "  Line: 34\n",
      "    pylint: wrong-import-position / Import \"import ast\" should be placed at the top of the module\n",
      "  Line: 35\n",
      "    pylint: wrong-import-position / Import \"import glob\" should be placed at the top of the module\n",
      "  Line: 36\n",
      "    pylint: wrong-import-position / Import \"import os\" should be placed at the top of the module\n",
      "  Line: 37\n",
      "    pylint: wrong-import-position / Import \"import argparse\" should be placed at the top of the module\n",
      "  Line: 38\n",
      "    pylint: wrong-import-position / Import \"import json\" should be placed at the top of the module\n",
      "  Line: 39\n",
      "    pylint: wrong-import-position / Import \"from matplotlib import pyplot as plt\" should be placed at the top of the module\n",
      "    pylint: unused-import / Unused pyplot imported from matplotlib as plt\n",
      "  Line: 74\n",
      "    pylint: unspecified-encoding / Using open without explicitly specifying an encoding (col 9)\n",
      "  Line: 84\n",
      "    pylint: no-else-break / Unnecessary \"else\" after \"break\" (col 12)\n",
      "  Line: 170\n",
      "    pylint: subprocess-run-check / Using subprocess.run without explicitly set `check` is not recommended. (col 13)\n",
      "  Line: 180\n",
      "    pep8: E305 / expected 2 blank lines after class or function definition, found 1 (col 1)\n",
      "  Line: 210\n",
      "    pylint: unspecified-encoding / Using open without explicitly specifying an encoding (col 9)\n",
      "\n",
      "\n",
      "\n",
      "Check Information\n",
      "=================\n",
      "         Started: 2021-12-27 18:30:49.223367\n",
      "        Finished: 2021-12-27 18:30:56.838264\n",
      "      Time Taken: 7.61 seconds\n",
      "       Formatter: grouped\n",
      "        Profiles: default, no_doc_warnings, no_test_warnings, strictness_medium, strictness_high, strictness_veryhigh, no_member_warnings\n",
      "      Strictness: None\n",
      "  Libraries Used: \n",
      "       Tools Run: dodgy, mccabe, pep8, profile-validator, pyflakes, pylint\n",
      "  Messages Found: 13\n",
      "\n",
      "\u001b[0m"
     ]
    }
   ],
   "source": [
    "!prospector static_offline_python_analysis.py"
   ]
  },
  {
   "cell_type": "code",
   "execution_count": null,
   "id": "c0750a36-c08c-4644-b36a-7c5148fdb6a8",
   "metadata": {},
   "outputs": [],
   "source": []
  }
 ],
 "metadata": {
  "kernelspec": {
   "display_name": "Python 3 (ipykernel)",
   "language": "python",
   "name": "python3"
  },
  "language_info": {
   "codemirror_mode": {
    "name": "ipython",
    "version": 3
   },
   "file_extension": ".py",
   "mimetype": "text/x-python",
   "name": "python",
   "nbconvert_exporter": "python",
   "pygments_lexer": "ipython3",
   "version": "3.9.6"
  }
 },
 "nbformat": 4,
 "nbformat_minor": 5
}
